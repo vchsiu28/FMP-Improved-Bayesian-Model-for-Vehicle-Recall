{
 "cells": [
  {
   "cell_type": "code",
   "execution_count": 1,
   "metadata": {
    "collapsed": true
   },
   "outputs": [],
   "source": [
    "import pandas as pd\n",
    "import numpy as np\n",
    "import re"
   ]
  },
  {
   "cell_type": "code",
   "execution_count": 2,
   "metadata": {
    "collapsed": true
   },
   "outputs": [],
   "source": [
    "#df = pd.read_csv('ECE_199_Complaints_sample_1.csv')\n",
    "#stop_words = np.genfromtxt('Stop Words listing.txt', dtype='str').tolist()"
   ]
  },
  {
   "cell_type": "markdown",
   "metadata": {},
   "source": [
    "## Data Preprocessing"
   ]
  },
  {
   "cell_type": "code",
   "execution_count": 2,
   "metadata": {},
   "outputs": [
    {
     "name": "stderr",
     "output_type": "stream",
     "text": [
      "C:\\Users\\Xiaoxin Xu\\AppData\\Local\\Anaconda\\lib\\site-packages\\IPython\\core\\interactiveshell.py:2717: DtypeWarning: Columns (13,19) have mixed types. Specify dtype option on import or set low_memory=False.\n",
      "  interactivity=interactivity, compiler=compiler, result=result)\n"
     ]
    },
    {
     "data": {
      "text/plain": [
       "Index(['Complaint ID', 'NHTSA Complaint Reference Number', 'Manufacturer Name',\n",
       "       'Vehicle Equipment Make', 'Vehicle Equipment Model', 'Model Year',\n",
       "       'Date Of Incident', 'Component Description', 'Component System',\n",
       "       'Component Subsystem', 'Consumer City', 'Consumer State', 'VIN Number',\n",
       "       'Date Added', 'Date Received', 'Vehicle Mileage',\n",
       "       'Complaint Description', 'Complaint Source', 'Police Report',\n",
       "       'Purchase Date', 'Vehicle Speed', 'Type Of Tire Failure',\n",
       "       'Manufacture Date', 'Product Type', 'Vehicle Age', 'Clean Manufacturer',\n",
       "       'Clean Make', 'Clean Model', 'Model Series', 'Vehicle Segment',\n",
       "       'Model Sales', 'Series Sales', 'Record Quarter', 'Record Year Month',\n",
       "       'Vehicle Kind', 'Vehicle Kind Component',\n",
       "       'Vehicle Kind Full Component'],\n",
       "      dtype='object')"
      ]
     },
     "execution_count": 2,
     "metadata": {},
     "output_type": "execute_result"
    }
   ],
   "source": [
    "df = pd.read_csv('Complaints.csv')\n",
    "df_recall = pd.read_csv('Recalls.csv')\n",
    "df.shape\n",
    "df.columns"
   ]
  },
  {
   "cell_type": "code",
   "execution_count": 3,
   "metadata": {
    "collapsed": true
   },
   "outputs": [],
   "source": [
    "df['Complaint Description'] = df['Complaint Description'].astype(str)\n",
    "df['Complaint Description'] = df['Complaint Description'].str.upper()\n",
    "df['Complaint ID'] = df['Complaint ID'].astype(str)"
   ]
  },
  {
   "cell_type": "markdown",
   "metadata": {},
   "source": [
    "## Extract Phrases"
   ]
  },
  {
   "cell_type": "code",
   "execution_count": 5,
   "metadata": {
    "collapsed": true
   },
   "outputs": [],
   "source": [
    "def extract_phrases(complaint):\n",
    "    \"\"\"\n",
    "    Return a list of unique phrases in one complaint\n",
    "    \"\"\"\n",
    "    # get sentences\n",
    "    sen = re.sub(r',|\\.|\\:|\\;|\\?|\\!',' ,', complaint) \n",
    "    \n",
    "    #remove digits\n",
    "    sen = ' '.join(' ' if any(c.isdigit() for c in s) else s for s in sen.split()) \n",
    "    s_list = re.split(r',|\\.|\\:|\\;|\\?|\\!', sen)\n",
    "    temp = []\n",
    "    \n",
    "    #get phrases\n",
    "    for s in s_list:\n",
    "        s = re.sub(r'[^\\w\\s]',' ', s)\n",
    "        words = s.split()\n",
    "        for i in range(5):\n",
    "            for j in range(len(words) - i):\n",
    "                temp.append(' '.join(words[j:j + i + 1]))\n",
    "    \n",
    "    #with no duplicates\n",
    "    return list(set(temp))            "
   ]
  },
  {
   "cell_type": "code",
   "execution_count": 6,
   "metadata": {
    "collapsed": true
   },
   "outputs": [],
   "source": [
    "def phrase_table(df):\n",
    "    '''\n",
    "    Return table with phrases and corresponding complaint ids\n",
    "    '''\n",
    "    phrases = []\n",
    "    cids = []\n",
    "\n",
    "    for i in range(len(df)):\n",
    "        cid = df['Complaint ID'][i]\n",
    "\n",
    "        temp_phrases = extract_phrases(df['Complaint Description'][i])  #extract\n",
    "        temp_ids = [cid] * len(temp_phrases)\n",
    "        phrases = phrases + temp_phrases\n",
    "        cids = cids + temp_ids\n",
    "    \n",
    "    d = pd.DataFrame({'Phrase': phrases})\n",
    "    d['Complaint ID'] = cids\n",
    "    return d"
   ]
  },
  {
   "cell_type": "code",
   "execution_count": 7,
   "metadata": {
    "collapsed": true,
    "scrolled": false
   },
   "outputs": [],
   "source": [
    "d100 = phrase_table(df.head(100))"
   ]
  },
  {
   "cell_type": "markdown",
   "metadata": {},
   "source": [
    "## Classify Recall Class"
   ]
  },
  {
   "cell_type": "code",
   "execution_count": 12,
   "metadata": {
    "collapsed": true
   },
   "outputs": [],
   "source": [
    "df_recall = pd.read_csv('Recalls.csv')\n",
    "recall_camp = list(df_recall['Recall Campaign Number'].astype(str))\n",
    "vehicle_kind = list(df_recall['Vehicle Kind'].astype(str))\n",
    "vehicle_kind_component = list(df_recall['Vehicle Kind Component'].astype(str))"
   ]
  },
  {
   "cell_type": "code",
   "execution_count": 14,
   "metadata": {},
   "outputs": [
    {
     "data": {
      "text/plain": [
       "(1249653, 2)"
      ]
     },
     "execution_count": 14,
     "metadata": {},
     "output_type": "execute_result"
    }
   ],
   "source": [
    "df_verified = pd.DataFrame({'Complaint': df['Complaint Description']})\n",
    "df_verified['Complaint ID'] = df['Complaint ID'] \n",
    "df_verified.shape"
   ]
  },
  {
   "cell_type": "code",
   "execution_count": 16,
   "metadata": {
    "collapsed": true
   },
   "outputs": [],
   "source": [
    "for i in range(len(df_verified)):\n",
    "    rcn = re.findall('\\d\\d[CEITVX]\\d{3,6}', df['Complaint Description'][i])\n",
    "    if rcn:\n",
    "        df_verified.set_value(i, 'Recall Class', 'Campaign Mentioned')\n",
    "        for j in rcn:\n",
    "            if j in recall_camp:\n",
    "                df_verified.set_value(i, 'Recall Class', 'Campaign Verified')\n",
    "                break\n",
    "    \n",
    "    elif df['Vehicle Kind'][i] in vehicle_kind:\n",
    "        if df['Vehicle Kind Component'][i] in vehicle_kind_component:\n",
    "            df_verified.set_value(i, 'Recall Class', 'Recall Kind Associated')\n",
    "        else:\n",
    "            df_verified.set_value(i, 'Recall Class', 'Recall Kind Associated but not Component')        \n",
    "    else:\n",
    "        df_verified.set_value(i, 'Recall Class', 'Not Recall Matched')"
   ]
  },
  {
   "cell_type": "code",
   "execution_count": 17,
   "metadata": {
    "collapsed": true
   },
   "outputs": [],
   "source": [
    "dencode = {'Campaign Verified': 1, 'Campaign Mentioned':2, 'Recall Kind Associated':3, \n",
    "           'Recall Kind Associated but not Component':4, 'Not Recall Matched':5}"
   ]
  },
  {
   "cell_type": "code",
   "execution_count": 32,
   "metadata": {},
   "outputs": [
    {
     "name": "stderr",
     "output_type": "stream",
     "text": [
      "C:\\Users\\Xiaoxin Xu\\AppData\\Local\\Anaconda\\lib\\site-packages\\ipykernel_launcher.py:1: SettingWithCopyWarning: \n",
      "A value is trying to be set on a copy of a slice from a DataFrame.\n",
      "Try using .loc[row_indexer,col_indexer] = value instead\n",
      "\n",
      "See the caveats in the documentation: http://pandas.pydata.org/pandas-docs/stable/indexing.html#indexing-view-versus-copy\n",
      "  \"\"\"Entry point for launching an IPython kernel.\n"
     ]
    },
    {
     "data": {
      "text/html": [
       "<div>\n",
       "<table border=\"1\" class=\"dataframe\">\n",
       "  <thead>\n",
       "    <tr style=\"text-align: right;\">\n",
       "      <th></th>\n",
       "      <th>Complaint</th>\n",
       "      <th>Complaint ID</th>\n",
       "      <th>Recall Class</th>\n",
       "      <th>Class</th>\n",
       "      <th>Recall</th>\n",
       "    </tr>\n",
       "  </thead>\n",
       "  <tbody>\n",
       "    <tr>\n",
       "      <th>0</th>\n",
       "      <td>SEAT JAMS DUE TO FLOOR FLEXING. THE PROBLEM WA...</td>\n",
       "      <td>268713</td>\n",
       "      <td>Recall Kind Associated but not Component</td>\n",
       "      <td>4</td>\n",
       "      <td>1</td>\n",
       "    </tr>\n",
       "    <tr>\n",
       "      <th>1</th>\n",
       "      <td>SEAT JAMS DUE TO FLOOR FLEXING. THE PROBLEM WA...</td>\n",
       "      <td>268718</td>\n",
       "      <td>Recall Kind Associated but not Component</td>\n",
       "      <td>4</td>\n",
       "      <td>1</td>\n",
       "    </tr>\n",
       "    <tr>\n",
       "      <th>2</th>\n",
       "      <td>RIGHT REAR LIGHTING SYSTEM TO INCLUDE TURN SIG...</td>\n",
       "      <td>717436</td>\n",
       "      <td>Recall Kind Associated</td>\n",
       "      <td>3</td>\n",
       "      <td>1</td>\n",
       "    </tr>\n",
       "    <tr>\n",
       "      <th>3</th>\n",
       "      <td>RIGHT REAR LIGHTING SYSTEM TO INCLUDE TURN SIG...</td>\n",
       "      <td>717437</td>\n",
       "      <td>Recall Kind Associated but not Component</td>\n",
       "      <td>4</td>\n",
       "      <td>1</td>\n",
       "    </tr>\n",
       "    <tr>\n",
       "      <th>4</th>\n",
       "      <td>THE HARNESS SNAPPED WHICH CAUSED THE CHILD TO ...</td>\n",
       "      <td>402240</td>\n",
       "      <td>Not Recall Matched</td>\n",
       "      <td>5</td>\n",
       "      <td>0</td>\n",
       "    </tr>\n",
       "  </tbody>\n",
       "</table>\n",
       "</div>"
      ],
      "text/plain": [
       "                                           Complaint Complaint ID  \\\n",
       "0  SEAT JAMS DUE TO FLOOR FLEXING. THE PROBLEM WA...       268713   \n",
       "1  SEAT JAMS DUE TO FLOOR FLEXING. THE PROBLEM WA...       268718   \n",
       "2  RIGHT REAR LIGHTING SYSTEM TO INCLUDE TURN SIG...       717436   \n",
       "3  RIGHT REAR LIGHTING SYSTEM TO INCLUDE TURN SIG...       717437   \n",
       "4  THE HARNESS SNAPPED WHICH CAUSED THE CHILD TO ...       402240   \n",
       "\n",
       "                               Recall Class  Class  Recall  \n",
       "0  Recall Kind Associated but not Component      4       1  \n",
       "1  Recall Kind Associated but not Component      4       1  \n",
       "2                    Recall Kind Associated      3       1  \n",
       "3  Recall Kind Associated but not Component      4       1  \n",
       "4                        Not Recall Matched      5       0  "
      ]
     },
     "execution_count": 32,
     "metadata": {},
     "output_type": "execute_result"
    }
   ],
   "source": [
    "df_verified['Class'] = df_verified['Recall Class'].apply(lambda x: dencode[x])\n",
    "df_verified['Recall'] = df_verified['Class'].apply(lambda x: 1 if x < 5 else 0)\n",
    "df_verified.head()"
   ]
  },
  {
   "cell_type": "code",
   "execution_count": 198,
   "metadata": {
    "collapsed": true
   },
   "outputs": [],
   "source": [
    "df_verified.to_csv('Complaints_Verified.csv')"
   ]
  },
  {
   "cell_type": "code",
   "execution_count": null,
   "metadata": {
    "collapsed": true
   },
   "outputs": [],
   "source": []
  }
 ],
 "metadata": {
  "kernelspec": {
   "display_name": "Python 3",
   "language": "python",
   "name": "python3"
  },
  "language_info": {
   "codemirror_mode": {
    "name": "ipython",
    "version": 3
   },
   "file_extension": ".py",
   "mimetype": "text/x-python",
   "name": "python",
   "nbconvert_exporter": "python",
   "pygments_lexer": "ipython3",
   "version": "3.6.0"
  }
 },
 "nbformat": 4,
 "nbformat_minor": 2
}
